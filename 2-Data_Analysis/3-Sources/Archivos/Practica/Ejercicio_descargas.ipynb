{
 "cells": [
  {
   "cell_type": "markdown",
   "metadata": {},
   "source": [
    "## Ejercicio descargas"
   ]
  },
  {
   "cell_type": "markdown",
   "metadata": {},
   "source": [
    "Python es un lenguaje de propósito general, por lo que podemos desarrollar otros programas,\n",
    "aparte de ciencia de datos, que nos permitan montar dashboards, crear APIs o automatizar\n",
    "procesos. En este caso vas a automatizar un proceso, en el que tendrás que desarrollar un\n",
    "script que ordene todos los archivos de una carpeta, dependiendo de la extensión de los\n",
    "mismos.\n",
    "\n",
    "\n",
    "El objetivo es ordenar la típica carpeta de cajón desastre donde se nos acumulan archivos de\n",
    "todos los formatos como: imágenes, words, presentaciones, excels, ejecutables, zips, etc... Y\n",
    "que no vamos a ir viendo archivo a archivo, ordenándolos.... La solución suele ser eliminarlo\n",
    "todo. Vamos a intentar no tener que llegar a eso, ordenando los ficheros automáticamente en\n",
    "carpetas y revisar las que nos interesen. La típica carpeta donde aplicaríamos este programa es\n",
    "la de “Descargas”, donde se suelen acumular muchos archivos temporales.\n",
    "\n",
    "\n",
    "Por tanto, **el programa tiene que guardar los archivos de la carpeta “Descargas” (o cualquier\n",
    "otra donde acumules mucho archivo temporal) en los siguientes directorios dentro de la\n",
    "propia carpeta “Descargas”**:\n",
    "- Imagenes\n",
    "- Documentos\n",
    "- Software\n",
    "- Otros\n",
    "\n",
    "Cada vez que ejecutes el script, automáticamente se ordenarán todos los archivos en sus\n",
    "correspondientes carpetas.\n"
   ]
  },
  {
   "cell_type": "code",
   "execution_count": 1,
   "metadata": {},
   "outputs": [],
   "source": [
    "doc_types = ('.doc', '.docx', '.txt', '.pdf', '.xls', '.ppt', '.xlsx', '.pptx')\n",
    "img_types = ('.jpg', '.jpeg', '.png', '.svg', '.gif', '.tif', '.tiff')\n",
    "software_types = ('.exe', '.pkg', '.dmg')"
   ]
  },
  {
   "cell_type": "markdown",
   "metadata": {},
   "source": [
    "### 1. Crea un main.py con el programa principal y las funciones necesarias en funciones.py"
   ]
  },
  {
   "cell_type": "code",
   "execution_count": 2,
   "metadata": {},
   "outputs": [],
   "source": [
    "import os\n",
    "import shutil"
   ]
  },
  {
   "cell_type": "code",
   "execution_count": 3,
   "metadata": {},
   "outputs": [
    {
     "data": {
      "text/plain": [
       "'c:\\\\Users\\\\Miguel Angel\\\\Documents\\\\Bootcamp_DS_6_22\\\\ds_thebridge_6_22\\\\2-Data_Analysis\\\\3-Sources\\\\Archivos\\\\Practica'"
      ]
     },
     "execution_count": 3,
     "metadata": {},
     "output_type": "execute_result"
    }
   ],
   "source": [
    "os.getcwd()"
   ]
  },
  {
   "cell_type": "code",
   "execution_count": 4,
   "metadata": {},
   "outputs": [
    {
     "data": {
      "text/plain": [
       "['descargas_test', 'Ejercicio_descargas.ipynb']"
      ]
     },
     "execution_count": 4,
     "metadata": {},
     "output_type": "execute_result"
    }
   ],
   "source": [
    "os.listdir()"
   ]
  },
  {
   "cell_type": "code",
   "execution_count": 5,
   "metadata": {},
   "outputs": [
    {
     "data": {
      "text/plain": [
       "'c:\\\\Users\\\\Miguel Angel\\\\Documents\\\\Bootcamp_DS_6_22\\\\ds_thebridge_6_22\\\\2-Data_Analysis\\\\3-Sources\\\\Archivos\\\\Practica\\\\descargas_test'"
      ]
     },
     "execution_count": 5,
     "metadata": {},
     "output_type": "execute_result"
    }
   ],
   "source": [
    "os.chdir(os.getcwd()+'\\\\descargas_test')\n",
    "os.getcwd()"
   ]
  },
  {
   "cell_type": "code",
   "execution_count": 6,
   "metadata": {},
   "outputs": [
    {
     "data": {
      "text/plain": [
       "['Intro_Data_Science.pdf',\n",
       " 'laliga.csv',\n",
       " 'laliga.xlsx',\n",
       " 'project_v0.ipynb',\n",
       " 'python-3.8.10-amd64.exe',\n",
       " 'TheBridge_logo.png']"
      ]
     },
     "execution_count": 6,
     "metadata": {},
     "output_type": "execute_result"
    }
   ],
   "source": [
    "os.listdir()"
   ]
  },
  {
   "cell_type": "code",
   "execution_count": 10,
   "metadata": {},
   "outputs": [
    {
     "name": "stdout",
     "output_type": "stream",
     "text": [
      "Intro_Data_Science.pdf es un documento\n",
      "laliga.csv es otro\n",
      "laliga.xlsx es un documento\n",
      "project_v0.ipynb es otro\n",
      "python-3.8.10-amd64.exe es un software\n",
      "TheBridge_logo.png es una imagen\n"
     ]
    }
   ],
   "source": [
    "for archivo in os.listdir():\n",
    "    if archivo.endswith(doc_types):\n",
    "        print(archivo, \"es un documento\")  \n",
    "    elif archivo.endswith(img_types):\n",
    "        print(archivo, \"es una imagen\")  \n",
    "    elif archivo.endswith(software_types):\n",
    "        print(archivo, \"es un software\")\n",
    "    else:\n",
    "        print(archivo, \"es otro\")"
   ]
  },
  {
   "cell_type": "code",
   "execution_count": 18,
   "metadata": {},
   "outputs": [],
   "source": [
    "os.makedirs('Imagenes', exist_ok=True)\n",
    "os.makedirs('Documentos', exist_ok=True)\n",
    "os.makedirs('Software', exist_ok=True)\n",
    "os.makedirs('Otros', exist_ok=True)"
   ]
  },
  {
   "cell_type": "code",
   "execution_count": 20,
   "metadata": {},
   "outputs": [
    {
     "name": "stdout",
     "output_type": "stream",
     "text": [
      "Documentos es otro\n",
      "Imagenes es otro\n",
      "Intro_Data_Science.pdf es un documento\n",
      "laliga.csv es otro\n",
      "laliga.xlsx es un documento\n",
      "otra_carpeta_notocar es otro\n",
      "Otros es otro\n",
      "project_v0.ipynb es otro\n",
      "python-3.8.10-amd64.exe es un software\n",
      "Software es otro\n",
      "TheBridge_logo.png es una imagen\n"
     ]
    }
   ],
   "source": [
    "for archivo in os.listdir():\n",
    "    if archivo.endswith(doc_types):\n",
    "        print(archivo, \"es un documento\")  \n",
    "    elif archivo.endswith(img_types):\n",
    "        print(archivo, \"es una imagen\")  \n",
    "    elif archivo.endswith(software_types):\n",
    "        print(archivo, \"es un software\")\n",
    "    else:\n",
    "        print(archivo, \"es otro\")"
   ]
  },
  {
   "cell_type": "code",
   "execution_count": 23,
   "metadata": {},
   "outputs": [
    {
     "data": {
      "text/plain": [
       "True"
      ]
     },
     "execution_count": 23,
     "metadata": {},
     "output_type": "execute_result"
    }
   ],
   "source": [
    "os.path.isdir(os.getcwd())"
   ]
  },
  {
   "cell_type": "code",
   "execution_count": 26,
   "metadata": {},
   "outputs": [
    {
     "name": "stdout",
     "output_type": "stream",
     "text": [
      "Documentos es una carpeta\n",
      "Imagenes es una carpeta\n",
      "Intro_Data_Science.pdf es un documento\n",
      "laliga.xlsx es un documento\n",
      "otra_carpeta_notocar es una carpeta\n",
      "Otros es una carpeta\n",
      "Software es una carpeta\n"
     ]
    }
   ],
   "source": [
    "for archivo in os.listdir():\n",
    "    if os.path.isdir(os.path.join(os.getcwd(), archivo)):\n",
    "        print(archivo, \"es una carpeta\")\n",
    "    else:\n",
    "        if archivo.endswith(doc_types):\n",
    "            print(archivo, \"es un documento\")  \n",
    "            shutil.move(archivo, 'Documentos')\n",
    "        elif archivo.endswith(img_types):\n",
    "            print(archivo, \"es una imagen\") \n",
    "            shutil.move(archivo, 'Imagenes') \n",
    "        elif archivo.endswith(software_types):\n",
    "            print(archivo, \"es un software\")\n",
    "            shutil.move(archivo, 'Software')\n",
    "        else:\n",
    "            print(archivo, \"es otro\")\n",
    "            shutil.move(archivo, 'Otros')"
   ]
  },
  {
   "cell_type": "code",
   "execution_count": null,
   "metadata": {},
   "outputs": [],
   "source": [
    "# functions.py\n",
    "def create_dirs():\n",
    "    return\n",
    "\n",
    "def move_files():\n",
    "    return\n",
    "\n",
    "# variables.py\n",
    "directorio=\"\"\n",
    "extensiones=[]\n",
    "\n",
    "# main.py\n",
    "# flujo principal"
   ]
  },
  {
   "cell_type": "markdown",
   "metadata": {},
   "source": [
    "### 2. Crea un main_class.py con el programa principal y su clase \"Fichero\" en clase.py"
   ]
  },
  {
   "cell_type": "code",
   "execution_count": null,
   "metadata": {},
   "outputs": [],
   "source": [
    "class Fichero():\n",
    "    # constructo atributos (carpeta, extensiones)\n",
    "    # métodos\n",
    "    # crear carpeta\n",
    "    # mover a carpeta"
   ]
  }
 ],
 "metadata": {
  "kernelspec": {
   "display_name": "Python 3.7.4 64-bit",
   "language": "python",
   "name": "python3"
  },
  "language_info": {
   "codemirror_mode": {
    "name": "ipython",
    "version": 3
   },
   "file_extension": ".py",
   "mimetype": "text/x-python",
   "name": "python",
   "nbconvert_exporter": "python",
   "pygments_lexer": "ipython3",
   "version": "3.7.4"
  },
  "orig_nbformat": 4,
  "vscode": {
   "interpreter": {
    "hash": "90139cb9a825bf3d63f6f6704e828dbd1ff7edbd4d0c6e906a71235d6efc74af"
   }
  }
 },
 "nbformat": 4,
 "nbformat_minor": 2
}
