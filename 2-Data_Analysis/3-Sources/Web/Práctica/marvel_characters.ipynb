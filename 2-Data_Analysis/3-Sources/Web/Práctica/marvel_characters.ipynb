{
 "cells": [
  {
   "cell_type": "markdown",
   "metadata": {},
   "source": [
    "# Ataca la API de Marvel\n",
    "\n",
    "![imagen](https://cdn.hobbyconsolas.com/sites/navi.axelspringer.es/public/styles/hc_1440x810/public/media/image/2021/09/marvel-2460339.jpg?itok=cBnC1CBi)"
   ]
  },
  {
   "cell_type": "markdown",
   "metadata": {},
   "source": [
    "Te tendrás que [registrar](https://developer.marvel.com/) y consultar la [documentación](https://developer.marvel.com/docs)"
   ]
  },
  {
   "cell_type": "markdown",
   "metadata": {},
   "source": [
    "Queremos que consultes a la api para que te devuelva la info de los personajes de marvel que empiecen por la inicial de tu nombre. Tendríamos que generar un main.py (más los scripts que se te ocurran) que guarde un csv la información con la siguiente estructura\n",
    "\n",
    "![imagen](./img/Captura_marvel.PNG)"
   ]
  },
  {
   "cell_type": "markdown",
   "metadata": {},
   "source": [
    "Aquí te dejamos el código en python para poder empezar a hacer las llamadas, rellenando algunas variables como tus keys, parámetros de la llamada y la url (endpoint) a la que quieres acceder"
   ]
  },
  {
   "cell_type": "code",
   "execution_count": 1,
   "metadata": {},
   "outputs": [],
   "source": [
    "import hashlib\n",
    "import requests\n",
    "import datetime\n",
    "import pandas as pd\n",
    "\n",
    "# pd.set_option(\"max_colwidth\", 100)\n",
    "# pd.set_option(\"max_rows\", 1000)"
   ]
  },
  {
   "cell_type": "code",
   "execution_count": 2,
   "metadata": {},
   "outputs": [],
   "source": [
    "def hash_params(timestamp,priv_key,pub_key):\n",
    "    \"\"\" Marvel API requires server side API calls to include\n",
    "    md5 hash of timestamp + public key + private key \"\"\"\n",
    "\n",
    "    hash_md5 = hashlib.md5()\n",
    "    hash_md5.update(f'{timestamp}{priv_key}{pub_key}'.encode('utf-8'))\n",
    "    hashed_params = hash_md5.hexdigest()\n",
    "\n",
    "    return hashed_params"
   ]
  },
  {
   "cell_type": "code",
   "execution_count": 12,
   "metadata": {},
   "outputs": [],
   "source": [
    "timestamp = datetime.datetime.now().strftime('%Y-%m-%d%H:%M:%S')\n",
    "\n",
    "pub_key = ''\n",
    "priv_key = ''\n",
    "\n",
    "params = {'ts': timestamp, \n",
    "        'apikey': pub_key, \n",
    "        'hash': hash_params(timestamp,priv_key,pub_key)};\n",
    "\n",
    "url = 'http://gateway.marvel.com/v1/public/characters'\n",
    "\n",
    "res = requests.get(url,params=params)"
   ]
  },
  {
   "cell_type": "code",
   "execution_count": 15,
   "metadata": {},
   "outputs": [],
   "source": [
    "respuesta_json = res.json()"
   ]
  },
  {
   "cell_type": "code",
   "execution_count": 21,
   "metadata": {},
   "outputs": [
    {
     "data": {
      "text/plain": [
       "{'id': 1011334,\n",
       " 'name': '3-D Man',\n",
       " 'description': '',\n",
       " 'modified': '2014-04-29T14:18:17-0400',\n",
       " 'thumbnail': {'path': 'http://i.annihil.us/u/prod/marvel/i/mg/c/e0/535fecbbb9784',\n",
       "  'extension': 'jpg'},\n",
       " 'resourceURI': 'http://gateway.marvel.com/v1/public/characters/1011334',\n",
       " 'comics': {'available': 12,\n",
       "  'collectionURI': 'http://gateway.marvel.com/v1/public/characters/1011334/comics',\n",
       "  'items': [{'resourceURI': 'http://gateway.marvel.com/v1/public/comics/21366',\n",
       "    'name': 'Avengers: The Initiative (2007) #14'},\n",
       "   {'resourceURI': 'http://gateway.marvel.com/v1/public/comics/24571',\n",
       "    'name': 'Avengers: The Initiative (2007) #14 (SPOTLIGHT VARIANT)'},\n",
       "   {'resourceURI': 'http://gateway.marvel.com/v1/public/comics/21546',\n",
       "    'name': 'Avengers: The Initiative (2007) #15'},\n",
       "   {'resourceURI': 'http://gateway.marvel.com/v1/public/comics/21741',\n",
       "    'name': 'Avengers: The Initiative (2007) #16'},\n",
       "   {'resourceURI': 'http://gateway.marvel.com/v1/public/comics/21975',\n",
       "    'name': 'Avengers: The Initiative (2007) #17'},\n",
       "   {'resourceURI': 'http://gateway.marvel.com/v1/public/comics/22299',\n",
       "    'name': 'Avengers: The Initiative (2007) #18'},\n",
       "   {'resourceURI': 'http://gateway.marvel.com/v1/public/comics/22300',\n",
       "    'name': 'Avengers: The Initiative (2007) #18 (ZOMBIE VARIANT)'},\n",
       "   {'resourceURI': 'http://gateway.marvel.com/v1/public/comics/22506',\n",
       "    'name': 'Avengers: The Initiative (2007) #19'},\n",
       "   {'resourceURI': 'http://gateway.marvel.com/v1/public/comics/8500',\n",
       "    'name': 'Deadpool (1997) #44'},\n",
       "   {'resourceURI': 'http://gateway.marvel.com/v1/public/comics/10223',\n",
       "    'name': 'Marvel Premiere (1972) #35'},\n",
       "   {'resourceURI': 'http://gateway.marvel.com/v1/public/comics/10224',\n",
       "    'name': 'Marvel Premiere (1972) #36'},\n",
       "   {'resourceURI': 'http://gateway.marvel.com/v1/public/comics/10225',\n",
       "    'name': 'Marvel Premiere (1972) #37'}],\n",
       "  'returned': 12},\n",
       " 'series': {'available': 3,\n",
       "  'collectionURI': 'http://gateway.marvel.com/v1/public/characters/1011334/series',\n",
       "  'items': [{'resourceURI': 'http://gateway.marvel.com/v1/public/series/1945',\n",
       "    'name': 'Avengers: The Initiative (2007 - 2010)'},\n",
       "   {'resourceURI': 'http://gateway.marvel.com/v1/public/series/2005',\n",
       "    'name': 'Deadpool (1997 - 2002)'},\n",
       "   {'resourceURI': 'http://gateway.marvel.com/v1/public/series/2045',\n",
       "    'name': 'Marvel Premiere (1972 - 1981)'}],\n",
       "  'returned': 3},\n",
       " 'stories': {'available': 21,\n",
       "  'collectionURI': 'http://gateway.marvel.com/v1/public/characters/1011334/stories',\n",
       "  'items': [{'resourceURI': 'http://gateway.marvel.com/v1/public/stories/19947',\n",
       "    'name': 'Cover #19947',\n",
       "    'type': 'cover'},\n",
       "   {'resourceURI': 'http://gateway.marvel.com/v1/public/stories/19948',\n",
       "    'name': 'The 3-D Man!',\n",
       "    'type': 'interiorStory'},\n",
       "   {'resourceURI': 'http://gateway.marvel.com/v1/public/stories/19949',\n",
       "    'name': 'Cover #19949',\n",
       "    'type': 'cover'},\n",
       "   {'resourceURI': 'http://gateway.marvel.com/v1/public/stories/19950',\n",
       "    'name': \"The Devil's Music!\",\n",
       "    'type': 'interiorStory'},\n",
       "   {'resourceURI': 'http://gateway.marvel.com/v1/public/stories/19951',\n",
       "    'name': 'Cover #19951',\n",
       "    'type': 'cover'},\n",
       "   {'resourceURI': 'http://gateway.marvel.com/v1/public/stories/19952',\n",
       "    'name': 'Code-Name:  The Cold Warrior!',\n",
       "    'type': 'interiorStory'},\n",
       "   {'resourceURI': 'http://gateway.marvel.com/v1/public/stories/47184',\n",
       "    'name': 'AVENGERS: THE INITIATIVE (2007) #14',\n",
       "    'type': 'cover'},\n",
       "   {'resourceURI': 'http://gateway.marvel.com/v1/public/stories/47185',\n",
       "    'name': 'Avengers: The Initiative (2007) #14 - Int',\n",
       "    'type': 'interiorStory'},\n",
       "   {'resourceURI': 'http://gateway.marvel.com/v1/public/stories/47498',\n",
       "    'name': 'AVENGERS: THE INITIATIVE (2007) #15',\n",
       "    'type': 'cover'},\n",
       "   {'resourceURI': 'http://gateway.marvel.com/v1/public/stories/47499',\n",
       "    'name': 'Avengers: The Initiative (2007) #15 - Int',\n",
       "    'type': 'interiorStory'},\n",
       "   {'resourceURI': 'http://gateway.marvel.com/v1/public/stories/47792',\n",
       "    'name': 'AVENGERS: THE INITIATIVE (2007) #16',\n",
       "    'type': 'cover'},\n",
       "   {'resourceURI': 'http://gateway.marvel.com/v1/public/stories/47793',\n",
       "    'name': 'Avengers: The Initiative (2007) #16 - Int',\n",
       "    'type': 'interiorStory'},\n",
       "   {'resourceURI': 'http://gateway.marvel.com/v1/public/stories/48361',\n",
       "    'name': 'AVENGERS: THE INITIATIVE (2007) #17',\n",
       "    'type': 'cover'},\n",
       "   {'resourceURI': 'http://gateway.marvel.com/v1/public/stories/48362',\n",
       "    'name': 'Avengers: The Initiative (2007) #17 - Int',\n",
       "    'type': 'interiorStory'},\n",
       "   {'resourceURI': 'http://gateway.marvel.com/v1/public/stories/49103',\n",
       "    'name': 'AVENGERS: THE INITIATIVE (2007) #18',\n",
       "    'type': 'cover'},\n",
       "   {'resourceURI': 'http://gateway.marvel.com/v1/public/stories/49104',\n",
       "    'name': 'Avengers: The Initiative (2007) #18 - Int',\n",
       "    'type': 'interiorStory'},\n",
       "   {'resourceURI': 'http://gateway.marvel.com/v1/public/stories/49106',\n",
       "    'name': 'Avengers: The Initiative (2007) #18, Zombie Variant - Int',\n",
       "    'type': 'interiorStory'},\n",
       "   {'resourceURI': 'http://gateway.marvel.com/v1/public/stories/49888',\n",
       "    'name': 'AVENGERS: THE INITIATIVE (2007) #19',\n",
       "    'type': 'cover'},\n",
       "   {'resourceURI': 'http://gateway.marvel.com/v1/public/stories/49889',\n",
       "    'name': 'Avengers: The Initiative (2007) #19 - Int',\n",
       "    'type': 'interiorStory'},\n",
       "   {'resourceURI': 'http://gateway.marvel.com/v1/public/stories/54371',\n",
       "    'name': 'Avengers: The Initiative (2007) #14, Spotlight Variant - Int',\n",
       "    'type': 'interiorStory'}],\n",
       "  'returned': 20},\n",
       " 'events': {'available': 1,\n",
       "  'collectionURI': 'http://gateway.marvel.com/v1/public/characters/1011334/events',\n",
       "  'items': [{'resourceURI': 'http://gateway.marvel.com/v1/public/events/269',\n",
       "    'name': 'Secret Invasion'}],\n",
       "  'returned': 1},\n",
       " 'urls': [{'type': 'detail',\n",
       "   'url': 'http://marvel.com/comics/characters/1011334/3-d_man?utm_campaign=apiRef&utm_source=dcfa67744d198a80776e92810ccdc2e0'},\n",
       "  {'type': 'wiki',\n",
       "   'url': 'http://marvel.com/universe/3-D_Man_(Chandler)?utm_campaign=apiRef&utm_source=dcfa67744d198a80776e92810ccdc2e0'},\n",
       "  {'type': 'comiclink',\n",
       "   'url': 'http://marvel.com/comics/characters/1011334/3-d_man?utm_campaign=apiRef&utm_source=dcfa67744d198a80776e92810ccdc2e0'}]}"
      ]
     },
     "execution_count": 21,
     "metadata": {},
     "output_type": "execute_result"
    }
   ],
   "source": [
    "respuesta_json['data']['results'][0]"
   ]
  },
  {
   "cell_type": "markdown",
   "metadata": {},
   "source": [
    "## Encapsulalo en un main.py, funciones.py y variables.py"
   ]
  },
  {
   "cell_type": "markdown",
   "metadata": {},
   "source": []
  }
 ],
 "metadata": {
  "kernelspec": {
   "display_name": "Python 3.7.4 64-bit",
   "language": "python",
   "name": "python3"
  },
  "language_info": {
   "codemirror_mode": {
    "name": "ipython",
    "version": 3
   },
   "file_extension": ".py",
   "mimetype": "text/x-python",
   "name": "python",
   "nbconvert_exporter": "python",
   "pygments_lexer": "ipython3",
   "version": "3.7.4"
  },
  "orig_nbformat": 4,
  "vscode": {
   "interpreter": {
    "hash": "90139cb9a825bf3d63f6f6704e828dbd1ff7edbd4d0c6e906a71235d6efc74af"
   }
  }
 },
 "nbformat": 4,
 "nbformat_minor": 2
}
