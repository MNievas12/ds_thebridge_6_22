{
 "cells": [
  {
   "cell_type": "code",
   "execution_count": 1,
   "metadata": {},
   "outputs": [],
   "source": [
    "from script import jugar"
   ]
  },
  {
   "cell_type": "code",
   "execution_count": 2,
   "metadata": {},
   "outputs": [
    {
     "name": "stdout",
     "output_type": "stream",
     "text": [
      "_ _ _ _ _ _ _ _\n",
      "Has acertado\n",
      "_ _ _ _ _ A _ _\n",
      "Has acertado\n",
      "_ _ _ _ C A _ _\n",
      "Has acertado\n",
      "_ _ _ _ C A _ _\n",
      "Has fallado\n",
      "Te quedan 2 vidas\n",
      "_ _ _ _ C A _ _\n",
      "Has acertado\n",
      "_ _ _ T C A _ _\n",
      "Has acertado\n",
      "_ _ _ T C A _ _\n",
      "Has acertado\n",
      "_ _ _ T C A M _\n",
      "Has acertado\n",
      "_ _ _ T C A M P\n",
      "Has acertado\n",
      "B _ _ T C A M P\n",
      "Has acertado\n",
      "B O O T C A M P\n",
      "Has ganado!! La palabra era BOOTCAMP\n"
     ]
    }
   ],
   "source": [
    "jugar(\"Bootcamp\",3)"
   ]
  },
  {
   "cell_type": "code",
   "execution_count": null,
   "metadata": {},
   "outputs": [],
   "source": []
  }
 ],
 "metadata": {
  "kernelspec": {
   "display_name": "Python 3.7.4 64-bit",
   "language": "python",
   "name": "python3"
  },
  "language_info": {
   "codemirror_mode": {
    "name": "ipython",
    "version": 3
   },
   "file_extension": ".py",
   "mimetype": "text/x-python",
   "name": "python",
   "nbconvert_exporter": "python",
   "pygments_lexer": "ipython3",
   "version": "3.7.4"
  },
  "orig_nbformat": 4,
  "vscode": {
   "interpreter": {
    "hash": "90139cb9a825bf3d63f6f6704e828dbd1ff7edbd4d0c6e906a71235d6efc74af"
   }
  }
 },
 "nbformat": 4,
 "nbformat_minor": 2
}
