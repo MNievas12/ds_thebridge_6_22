{
 "cells": [
  {
   "cell_type": "markdown",
   "metadata": {},
   "source": [
    "## Juego del Ahorcado\n",
    "El funcionamiento es que vaya mostrando por pantalla ```_ _ _ _ _``` las rayas bajas correspondientes al número de letras que tiene la palabra a adivinar. El usuario deberá insertar una letra y, si esa letra existe, se mostrará o mostrarán las letras acertadas ```S _ S _ _```. \n",
    "\n",
    "Si falla, se mostrará el número de errores que lleva y, si lleva 6 errores, entonces se mostrará \"Fin del juego\".\n",
    "Encapsúlalo en una función."
   ]
  },
  {
   "cell_type": "code",
   "execution_count": null,
   "metadata": {},
   "outputs": [],
   "source": []
  }
 ],
 "metadata": {
  "language_info": {
   "name": "python"
  },
  "orig_nbformat": 4
 },
 "nbformat": 4,
 "nbformat_minor": 2
}
