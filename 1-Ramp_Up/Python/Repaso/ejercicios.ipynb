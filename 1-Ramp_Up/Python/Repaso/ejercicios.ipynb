{
 "cells": [
  {
   "cell_type": "markdown",
   "metadata": {},
   "source": [
    "## Juego del Ahorcado\n",
    "El funcionamiento es que vaya mostrando por pantalla ```_ _ _ _ _``` las rayas bajas correspondientes al número de letras que tiene la palabra a adivinar. El usuario deberá insertar una letra y, si esa letra existe, se mostrará o mostrarán las letras acertadas ```S _ S _ _```. \n",
    "\n",
    "Si falla, se mostrará el número de errores que lleva y, si lleva 6 errores, entonces se mostrará \"Fin del juego\".\n",
    "Encapsúlalo en una función."
   ]
  },
  {
   "cell_type": "code",
   "execution_count": 12,
   "metadata": {},
   "outputs": [
    {
     "name": "stdout",
     "output_type": "stream",
     "text": [
      "_ _ _ _ _ _ _\n",
      "Has fallado\n",
      "Te quedan 5 vidas\n",
      "_ _ _ _ _ _ _\n",
      "Has acertado\n",
      "_ _ A _ A _ _\n",
      "Has acertado\n",
      "_ _ A _ A _ O\n",
      "Has fallado\n",
      "Te quedan 4 vidas\n",
      "_ _ A _ A _ O\n",
      "Has acertado\n",
      "P _ A _ A _ O\n",
      "Has acertado\n",
      "P L A _ A _ O\n",
      "Has acertado\n",
      "P L A T A _ O\n",
      "Has acertado\n",
      "P L A T A N O\n",
      "Has ganado!! La palabra era PLATANO\n"
     ]
    }
   ],
   "source": [
    "# Guardamos palabra a adivinar, y creamos una lista de \"_\" por cada letra para mostrar al usuario. Empezamos con 6 vidas\n",
    "palabra_adivinar = \"platano\".upper()\n",
    "palabra_mostrar_lista = list('_' * len(palabra_adivinar))\n",
    "vidas = 6\n",
    "\n",
    "print(*palabra_mostrar_lista)\n",
    "\n",
    "\n",
    "# Mientras tengamos vidas y palabras por adivinar, se ejecutará este bucle\n",
    "while vidas > 0 and '_' in palabra_mostrar_lista:\n",
    "\n",
    "    # Recogemos la letra del usuario\n",
    "    letra_usuario = input(\"Introduzca una letra: \").upper()\n",
    "\n",
    "    # Comprobamos si queremos salir\n",
    "    if letra_usuario == \"EXIT\":\n",
    "        break\n",
    "    \n",
    "    # Compruebo si la letra se encuentra dentro de la palabra\n",
    "    if letra_usuario in palabra_adivinar:\n",
    "        print(\"Has acertado\")\n",
    "\n",
    "        # Me recorro las letras, para encontrar la posición de la letra adivinada\n",
    "        for pos, letra in enumerate(palabra_adivinar):\n",
    "            \n",
    "            # Si coincide, modifico en la lista de caracteres \"_\", el valor de la letra adivinada en la posición que le corresponde\n",
    "            if letra == letra_usuario:\n",
    "                palabra_mostrar_lista[pos] = letra\n",
    "            # Si no, no hacemos nada\n",
    "            else:\n",
    "                continue\n",
    "\n",
    "    # Si no tiene esa letra, ha fallado y por lo tanto pierdes una vida\n",
    "    else:\n",
    "        print(\"Has fallado\")\n",
    "        vidas = vidas - 1\n",
    "        print(\"Te quedan\",vidas,'vidas')\n",
    "\n",
    "    # Se muestra la palabra con las letras adivinadas\n",
    "    print(*palabra_mostrar_lista)\n",
    "\n",
    "print(\"Has ganado!! La palabra era\", palabra_adivinar)"
   ]
  },
  {
   "cell_type": "markdown",
   "metadata": {},
   "source": [
    "## Encapsular en una función"
   ]
  },
  {
   "cell_type": "code",
   "execution_count": 8,
   "metadata": {},
   "outputs": [],
   "source": [
    "def jugar(palabra_adivinar,vidas):\n",
    "    '''\n",
    "    Función que permite jugar al ahorcado.\n",
    "\n",
    "    Input:\n",
    "\n",
    "        palabra_adivinar -> String\n",
    "        vidas -> int\n",
    "    '''\n",
    "    \n",
    "    palabra_adivinar = palabra_adivinar.upper()\n",
    "    palabra_mostrar_lista = list('_' * len(palabra_adivinar))\n",
    "    print(*palabra_mostrar_lista)\n",
    "    # Mientras tengamos vidas y palabras por adivinar, se ejecutará este bucle\n",
    "    while vidas > 0 and '_' in palabra_mostrar_lista:\n",
    "\n",
    "        # Recogemos la letra del usuario\n",
    "        letra_usuario = input(\"Introduzca una letra: \").upper()\n",
    "\n",
    "        # Comprobamos si queremos salir\n",
    "        if letra_usuario == \"EXIT\":\n",
    "            break\n",
    "        \n",
    "        # Compruebo si la letra se encuentra dentro de la palabra\n",
    "        if letra_usuario in palabra_adivinar:\n",
    "            print(\"Has acertado\")\n",
    "\n",
    "            # Me recorro las letras, para encontrar la posición de la letra adivinada\n",
    "            for pos, letra in enumerate(palabra_adivinar):\n",
    "                \n",
    "                # Si coincide, modifico en la lista de caracteres \"_\", el valor de la letra adivinada en la posición que le corresponde\n",
    "                if letra == letra_usuario:\n",
    "                    palabra_mostrar_lista[pos] = letra\n",
    "                # Si no, no hacemos nada\n",
    "                else:\n",
    "                    continue\n",
    "\n",
    "        # Si no tiene esa letra, ha fallado y por lo tanto pierdes una vida\n",
    "        else:\n",
    "            print(\"Has fallado\")\n",
    "            vidas = vidas - 1\n",
    "            print(\"Te quedan\",vidas,'vidas')\n",
    "\n",
    "        # Se muestra la palabra con las letras adivinadas\n",
    "        print(*palabra_mostrar_lista)\n",
    "        \n",
    "    if vidas > 0 and letra_usuario != \"EXIT\":\n",
    "        print(\"Has ganado!! La palabra era\", palabra_adivinar)\n",
    "    else:\n",
    "        print(\"Has perdido. La palabra era\", palabra_adivinar)"
   ]
  },
  {
   "cell_type": "code",
   "execution_count": 10,
   "metadata": {},
   "outputs": [
    {
     "name": "stdout",
     "output_type": "stream",
     "text": [
      "_ _ _ _ _ _ _\n",
      "Has fallado\n",
      "Te quedan 2 vidas\n",
      "_ _ _ _ _ _ _\n",
      "Has perdido. La palabra era CANCIÓN\n"
     ]
    }
   ],
   "source": [
    "jugar(\"Canción\", 3)"
   ]
  },
  {
   "cell_type": "code",
   "execution_count": null,
   "metadata": {},
   "outputs": [],
   "source": [
    "jugar(\"Portatil\", 5)"
   ]
  },
  {
   "cell_type": "markdown",
   "metadata": {},
   "source": [
    "#### Traductor. \n",
    "\n",
    "Escribe un programa que use diccionarios para traducir palabras entre varios idiomas.\n",
    "Deberás pedirle al usuario una palabra por teclado, ver si está en tu diccionario. En caso de que esté, deberás mostrar la traducción de esa palabra.\n"
   ]
  },
  {
   "cell_type": "code",
   "execution_count": 11,
   "metadata": {},
   "outputs": [],
   "source": [
    "menu = {\"fr\": {\"file\": \"Fichier\", \"new\": \"Nouveau\", \"open\": \"Ouvrir\", \"save\": \"Enregistrer\", \"save as\": \"Enregistrer sous\", \"print preview\": \"Apercu avant impressioner\", \"print\": \"Imprimer\", \"close\": \"Fermer\", \"exit\": \"Quitter\"},\n",
    "        \"de\": {\"file\": \"Datei\", \"new\": \"Neu\", \"open\": \"Ã–ffnen\", \"save\": \"Speichern\", \"save as\": \"Speichern unter\", \"print preview\": \"Druckansicht\", \"print\": \"Drucken\", \"close\": \"SchlieÃŸen\", \"exit\": \"Verlassen\"},\n",
    "        \"it\": {\"file\": \"File\", \"new\": \"Nuovo\", \"open\": \"Apri\", \"save\": \"Salva\", \"save as\": \"Salva come\", \"print preview\": \"Anteprima di stampa\", \"print\": \"Stampa\", \"close\": \"Chiudi\", \"exit\": \"Esci\"}\n",
    "        }"
   ]
  },
  {
   "cell_type": "code",
   "execution_count": null,
   "metadata": {},
   "outputs": [],
   "source": [
    "# Crea una funcion traductor(palabra_traducir, idioma)"
   ]
  },
  {
   "cell_type": "code",
   "execution_count": 13,
   "metadata": {},
   "outputs": [
    {
     "data": {
      "text/plain": [
       "'Speichern unter'"
      ]
     },
     "execution_count": 13,
     "metadata": {},
     "output_type": "execute_result"
    }
   ],
   "source": [
    "menu['de']['save as']"
   ]
  },
  {
   "cell_type": "code",
   "execution_count": null,
   "metadata": {},
   "outputs": [],
   "source": []
  }
 ],
 "metadata": {
  "kernelspec": {
   "display_name": "Python 3.7.4 64-bit",
   "language": "python",
   "name": "python3"
  },
  "language_info": {
   "codemirror_mode": {
    "name": "ipython",
    "version": 3
   },
   "file_extension": ".py",
   "mimetype": "text/x-python",
   "name": "python",
   "nbconvert_exporter": "python",
   "pygments_lexer": "ipython3",
   "version": "3.7.4"
  },
  "orig_nbformat": 4,
  "vscode": {
   "interpreter": {
    "hash": "90139cb9a825bf3d63f6f6704e828dbd1ff7edbd4d0c6e906a71235d6efc74af"
   }
  }
 },
 "nbformat": 4,
 "nbformat_minor": 2
}
