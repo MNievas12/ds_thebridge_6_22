{
 "cells": [
  {
   "cell_type": "markdown",
   "metadata": {},
   "source": [
    "# Test RAMP UP DS-FT Jun 2022"
   ]
  },
  {
   "cell_type": "code",
   "execution_count": 1,
   "metadata": {},
   "outputs": [],
   "source": [
    "# Escribe tu nombre y apellidos (apellido si solo tienes uno) en las variables:\n",
    "nombre = \"Miguel\"\n",
    "apellidos = \"Nievas\""
   ]
  },
  {
   "cell_type": "code",
   "execution_count": 2,
   "metadata": {},
   "outputs": [
    {
     "name": "stdout",
     "output_type": "stream",
     "text": [
      "Bienvenido Miguel Nievas. Mucha suerte!\n"
     ]
    }
   ],
   "source": [
    "# Solo ejecutar\n",
    "nombre_apellidos = nombre + ' ' + apellidos\n",
    "print(\"Bienvenido\", nombre_apellidos + '. Mucha suerte!')"
   ]
  },
  {
   "cell_type": "code",
   "execution_count": 3,
   "metadata": {},
   "outputs": [
    {
     "name": "stdout",
     "output_type": "stream",
     "text": [
      "Antes de comenzar, cambia el nombre de este archivo notebook a Miguel_Nievas.ipynb\n"
     ]
    }
   ],
   "source": [
    "# Solo ejecutar\n",
    "print('Antes de comenzar, cambia el nombre de este archivo notebook a', nombre_apellidos.replace(' ','_') + '.ipynb')"
   ]
  },
  {
   "cell_type": "code",
   "execution_count": 4,
   "metadata": {},
   "outputs": [],
   "source": [
    "# Correo electrónico\n",
    "correo_electronico = \"\""
   ]
  },
  {
   "cell_type": "markdown",
   "metadata": {},
   "source": [
    "## Primera parte tipo test (3 puntos):\n",
    "\n",
    "**-->[Enlace al test](https://docs.google.com/forms/d/e/1FAIpQLSd0MtySII6TJBRZtYPpwI4RCiYCiFONpwius9DSNj9hFmdeMQ/viewform)<--**"
   ]
  },
  {
   "cell_type": "markdown",
   "metadata": {},
   "source": [
    "#### Notas y pruebas de apoyo para contestar las preguntas tipo test\n",
    "Esto no es necesario usarlo aunque verlo aquí te puede dar la respuesta a alguna de las preguntas tipo test.\n",
    "\n",
    "Cualquier código aunque no esté correcto nos dirá más de ti que no escribir nada. "
   ]
  },
  {
   "cell_type": "code",
   "execution_count": null,
   "metadata": {},
   "outputs": [],
   "source": [
    "# crea todas las celdas que necesites"
   ]
  },
  {
   "cell_type": "code",
   "execution_count": null,
   "metadata": {},
   "outputs": [],
   "source": [
    "# crea todas las celdas que necesites"
   ]
  },
  {
   "cell_type": "markdown",
   "metadata": {},
   "source": [
    "-----------------"
   ]
  },
  {
   "cell_type": "markdown",
   "metadata": {},
   "source": [
    "## Segunda parte ejercicios prácticos (7 puntos):\n"
   ]
  },
  {
   "cell_type": "code",
   "execution_count": null,
   "metadata": {},
   "outputs": [],
   "source": [
    "# No te olvides de documentar el código para dejar clara la lógica, sobre todo cuando no sale el resultado"
   ]
  },
  {
   "cell_type": "markdown",
   "metadata": {},
   "source": [
    "### Ejercicio 1 (1 punto)\n",
    "En este ejercicio se va a crear una lista con los siguientes elementos. Primero, crearemos las variables que luego añadiremos a la lista. Las variables son las siguientes:\n",
    "\n",
    "1. Crea una variable llamada `edad` de tipo Integer que represente tu edad en años. \n",
    "2. Crea una variable llamada `nombre` de tipo String , que tenga el mismo valor de `nombre_y_apellidos`.\n",
    "3. Crea una variable llamada `altura` con el valor de tu altura en metros de tipo float.\n",
    "4. Crea una variable llamada `s_operativo` de tipo Boolean True si usas Windows y False si usas otro.\n",
    "5. Crea una variable llamada `nada` de tipo None cuyo valor sea None.\n",
    "6. Crea una variable llamada `lista_peliculas` de tipo List que contenga las 5 películas que más te gusten. Cada elemento ha de ser de tipo String.\n",
    "7. Crea una variable llamada `tupla_isla` de tipo Tuple con mínimo tres objetos que te llevarías a una isla desierta.\n",
    "8. Crea una variable llamada `dict_movil` con dos keys y dos values. Una key es `marca`, teniendo como value la marca de tu móvil de tipo String. Otra key es `anio`, teniendo como value el número del año de compra de tipo entero.\n",
    "9. Añade todos estos elementos en una lista llamada `lista_examen` en el orden de aparición.\n",
    "10. Guarda en la variable `lon_lista_examen` la longitud de `lista_examen`."
   ]
  },
  {
   "cell_type": "code",
   "execution_count": 5,
   "metadata": {},
   "outputs": [
    {
     "name": "stdout",
     "output_type": "stream",
     "text": [
      "[28, 'Miguel Nievas', 1.8, True, None, ['Origen', 'Caballero Oscuro', 'Matrix', 'Retorno del rey', 'Django'], ('Cantimpliora', 'Navaja', 'Manta'), {'marca': 'Realme', 'anio': 2020}]\n",
      "8\n"
     ]
    }
   ],
   "source": [
    "edad = 28\n",
    "nombre = nombre_apellidos\n",
    "altura = 1.80\n",
    "s_operativo = True\n",
    "nada = None\n",
    "lista_peliculas = ['Origen','Caballero Oscuro', 'Matrix', 'Retorno del rey', \"Django\"]\n",
    "tupla_isla = ('Cantimpliora','Navaja', \"Manta\")\n",
    "dict_movil = {\"marca\":\"Realme\", \"anio\": 2020}\n",
    "\n",
    "lista_examen = [edad, nombre, altura, s_operativo, nada, lista_peliculas, tupla_isla, dict_movil]\n",
    "print(lista_examen)\n",
    "lon_lista_examen = len(lista_examen)\n",
    "print(lon_lista_examen)"
   ]
  },
  {
   "cell_type": "markdown",
   "id": "ff4becae-86c4-46ab-9e09-3aeec5296700",
   "metadata": {},
   "source": [
    "### Ejercicio 2 (2 puntos)\n",
    "\n",
    "Para resolver este ejercicio necesitarás la lista del ejercicio anterior (`lista_examen`). Se recomienda leer cada punto hasta el final antes de resolver el ejercicio.\n",
    "\n",
    "Se repite para que quede aún más claro: **SOLO USAR LA VARIABLE** `lista_examen`. Usar otra variable se calificará como error.  \n",
    "\n",
    "1. Guardar en las variables, sin uso de funciones (puedes usar print) ni bucles: \n",
    "    - `res21` La primera película favorita\n",
    "    - `res22` El último objeto que te llevarías a una isla.\n",
    "    - `res23` Los 3 primeros caracteres de la marca de tu móvil.\n",
    "    \n",
    "    \n",
    "2. Mostrar por pantalla, con uso de un bucle `for`:\n",
    "    - Las posiciones y elementos de `lista_examen` de las posiciones impares.\n",
    "    - Todos los elementos de `lista_examen` al revés.\n",
    "    - Todos aquellos elementos de las colecciones ordenadas de `lista_examen`.\n",
    "\n",
    "3. Con uso del bucle while, borra las películas por la cola hasta que tengas 2 películas y guarda esas películas borradas en una nueva lista `pelis_borradas`.\n",
    "\n",
    "\n",
    "    \n",
    "\n",
    "    "
   ]
  },
  {
   "cell_type": "code",
   "execution_count": 15,
   "metadata": {},
   "outputs": [
    {
     "name": "stdout",
     "output_type": "stream",
     "text": [
      "Origen\n",
      "Manta\n",
      "Rea\n"
     ]
    }
   ],
   "source": [
    "res21 = lista_examen[5][0]\n",
    "print(res21)\n",
    "\n",
    "res22 = lista_examen[6][-1]\n",
    "print(res22)\n",
    "\n",
    "res23 = lista_examen[7]['marca'][:3]\n",
    "print(res23)"
   ]
  },
  {
   "cell_type": "code",
   "execution_count": 16,
   "metadata": {},
   "outputs": [
    {
     "name": "stdout",
     "output_type": "stream",
     "text": [
      "1 Miguel Nievas\n",
      "3 True\n",
      "5 ['Origen', 'Caballero Oscuro', 'Matrix', 'Retorno del rey', 'Django']\n",
      "7 {'marca': 'Realme', 'anio': 2020}\n"
     ]
    }
   ],
   "source": [
    "for i, elem in enumerate(lista_examen):\n",
    "    if i % 2 != 0:\n",
    "        print(i, elem)"
   ]
  },
  {
   "cell_type": "code",
   "execution_count": 21,
   "metadata": {},
   "outputs": [
    {
     "data": {
      "text/plain": [
       "[8, 7, 6, 5, 4, 3, 2, 1, 0]"
      ]
     },
     "execution_count": 21,
     "metadata": {},
     "output_type": "execute_result"
    }
   ],
   "source": [
    "list(range(len(lista_examen), -1, -1))"
   ]
  },
  {
   "cell_type": "code",
   "execution_count": 18,
   "metadata": {},
   "outputs": [
    {
     "name": "stdout",
     "output_type": "stream",
     "text": [
      "7 {'marca': 'Realme', 'anio': 2020}\n",
      "6 ('Cantimpliora', 'Navaja', 'Manta')\n",
      "5 ['Origen', 'Caballero Oscuro', 'Matrix', 'Retorno del rey', 'Django']\n",
      "4 None\n",
      "3 True\n",
      "2 1.8\n",
      "1 Miguel Nievas\n",
      "0 28\n"
     ]
    }
   ],
   "source": [
    "for i in range(len(lista_examen)-1, -1, -1):\n",
    "    print(i, lista_examen[i])"
   ]
  },
  {
   "cell_type": "code",
   "execution_count": 25,
   "metadata": {},
   "outputs": [
    {
     "name": "stdout",
     "output_type": "stream",
     "text": [
      "{'marca': 'Realme', 'anio': 2020}\n",
      "('Cantimpliora', 'Navaja', 'Manta')\n",
      "['Origen', 'Caballero Oscuro', 'Matrix', 'Retorno del rey', 'Django']\n",
      "None\n",
      "True\n",
      "1.8\n",
      "Miguel Nievas\n",
      "28\n"
     ]
    }
   ],
   "source": [
    "for i in reversed(lista_examen):\n",
    "    print(i)"
   ]
  },
  {
   "cell_type": "code",
   "execution_count": 27,
   "metadata": {},
   "outputs": [
    {
     "name": "stdout",
     "output_type": "stream",
     "text": [
      "Origen\n",
      "Caballero Oscuro\n",
      "Matrix\n",
      "Retorno del rey\n",
      "Django\n",
      "Cantimpliora\n",
      "Navaja\n",
      "Manta\n"
     ]
    }
   ],
   "source": [
    "for elem in lista_examen:\n",
    "    if type(elem) in [type(list()),type(tuple())]:\n",
    "        for j in elem:\n",
    "            print(j)"
   ]
  },
  {
   "cell_type": "code",
   "execution_count": 28,
   "metadata": {},
   "outputs": [
    {
     "name": "stdout",
     "output_type": "stream",
     "text": [
      "['Django', 'Retorno del rey', 'Matrix']\n",
      "['Origen', 'Caballero Oscuro']\n"
     ]
    }
   ],
   "source": [
    "pelis_borradas = []\n",
    "\n",
    "while len(lista_examen[5]) > 2:\n",
    "    pelis_borradas.append(lista_examen[5].pop(-1))\n",
    "\n",
    "print(pelis_borradas)\n",
    "print(lista_examen[5])"
   ]
  },
  {
   "cell_type": "markdown",
   "metadata": {},
   "source": [
    "### Ejercicio 3 (2 puntos)\n",
    "\n",
    "#### Crear un programa que calcule la cuota de una hipoteca\n",
    "\n",
    "Las cuotas hipotecarias se calculan utilizando la fórmula del interés frances. \n",
    "\n",
    "La formula del interés frances es la siguiente:\n",
    "\\begin{align*}\n",
    "C=V \\frac{(1+i)^n i}{(1+i)^n -1}\n",
    "\\end{align*}\n",
    "\n",
    "\n",
    "    C = cuota a pagar (mensual)\n",
    "    V = volumen del préstamo hipotecario\n",
    "    i = tipo de interés del período (mensual)\n",
    "    n = número de cuotas (mensuales)\n",
    "\n",
    "1. Crea un programa que solicite al usuario los datos de su hipoteca mediante input() los datos (volumen, interés **anual**, y plazo en **años**) y le devuelva la cuota **mensual** a pagar. No es necesario encapsularlo en funciones.\n",
    "\n",
    "2. Crea una función `calculadora_hip` que realiza el cálculo y cuyos argumentos de entrada sean `volumen`, `interes_anual` y `anios`, devolviendo la couta mensual.\n",
    "3. Calcula la cuota y guárdala en la variable `res_cuota` si la cantidad de la hipoteca son 300000 euros, el interés anual es del 4% y la quiere pagar en 25 años a partir de la función `calculadora_hip`.\n",
    "4. Crea una función `gasto_vivienda` que utilice la función `calculadora_hip` y que tenga dos argumentos de entrada `ingreso` y `lista_hip`. Esta lista tendrá los valores de los argumentos de entrada de `calculadora_hip`. Tiene que devolver el valor del porcentaje de gasto en la hipoteca respecto a los ingresos. (Entre 0 y 1, es decir 0.5 si es del 50%)\n",
    "5. Calcula el porcentaje de gasto en la hipoteca si el ingreso es de 1800 euros y guárdalo en la variable `res_porcentaje`.\n",
    "6. Documenta ambas funciones con el estilo de Google.\n"
   ]
  },
  {
   "cell_type": "code",
   "execution_count": 30,
   "metadata": {},
   "outputs": [
    {
     "name": "stdout",
     "output_type": "stream",
     "text": [
      "1583.5105208933105\n"
     ]
    }
   ],
   "source": [
    "volumen = float(input(\"Introduce el volumen de la hipoteca\"))\n",
    "\n",
    "n_meses = int(input(\"A cuántos años?\")) * 12\n",
    "\n",
    "interes = float(input(\"Tipo interés anual\"))/100/12\n",
    "\n",
    "cuota = volumen * ((1 + interes) ** n_meses) * interes / (((1 + interes) ** n_meses) - 1)\n",
    "print(cuota)"
   ]
  },
  {
   "cell_type": "code",
   "execution_count": 35,
   "metadata": {},
   "outputs": [],
   "source": [
    "def calculadora_hip(volumen, interes_anual, anios):\n",
    "    '''\n",
    "    Función que calcula la cuota mensual de una hipoteca\n",
    "    \n",
    "    Args:\n",
    "        volumen (float): El volumen total de la hipoteca en euros\n",
    "        interes_anual (float): Tasa de interés anual\n",
    "        anios (int): Número de años para liquidar la hipoteca\n",
    "    Return:\n",
    "        cuota (float): Cuota mensual para la hipoteca\n",
    "    '''\n",
    "    n_meses = anios * 12\n",
    "    interes = interes_anual / 100 / 12\n",
    "    cuota = volumen * ((1 + interes) ** n_meses) * interes / (((1 + interes) ** n_meses) - 1)\n",
    "    return cuota"
   ]
  },
  {
   "cell_type": "code",
   "execution_count": 32,
   "metadata": {},
   "outputs": [
    {
     "name": "stdout",
     "output_type": "stream",
     "text": [
      "1583.5105208933105\n"
     ]
    }
   ],
   "source": [
    "res_cuota = calculadora_hip(300000,4,25)\n",
    "print(res_cuota)"
   ]
  },
  {
   "cell_type": "code",
   "execution_count": 37,
   "metadata": {},
   "outputs": [],
   "source": [
    "def gasto_vivienda(ingreso:float, lista_hip:list):\n",
    "    '''\n",
    "    Función que calcula el porcentaje de gasto de los ingresos en la hipoteca\n",
    "\n",
    "    Args:\n",
    "        ingreso (float): El ingreso mensual\n",
    "        lista_hip (list): Lista con los argumentos de volumen, interés anual y años\n",
    "\n",
    "    Return:\n",
    "        Porcentaje de la cuota mensaul respecto al ingreso\n",
    "    '''\n",
    "    cuota = calculadora_hip(lista_hip[0],lista_hip[1],lista_hip[2])\n",
    "    return float(cuota / ingreso)"
   ]
  },
  {
   "cell_type": "code",
   "execution_count": 34,
   "metadata": {},
   "outputs": [
    {
     "name": "stdout",
     "output_type": "stream",
     "text": [
      "0.8797280671629503\n"
     ]
    }
   ],
   "source": [
    "res_porcentaje = gasto_vivienda(1800, [300000, 4, 25])\n",
    "print(res_porcentaje)"
   ]
  },
  {
   "cell_type": "markdown",
   "metadata": {},
   "source": [
    "### Ejercicio 4 (2 puntos)\n",
    "\n",
    "1. Crea una clase `Humano` que tenga 1 atributo general `mamifero`(bool) y 4 atributos en el constructor: `ojos`(int default 2), `edad`(int), `altura`(float) y `nombre`(str). Además, debe contar con dos métodos: \n",
    "\n",
    "- `cumplir_edad`: al llamar a este método se debe sumar 1 al atributo edad del humano y que retorne \"Felices x años!\" con la edad actualizada. Si cumple 80, su altura pasará a ser el 90% de su altura original.\n",
    "- `registro_nombre` que recibe parametro `nuevo_nombre`: al llamar a esta función con un parámetro de entrada, este método debe cambiar el nombre del humano por el `nuevo_nombre` y sin retornar nada\n",
    "\n",
    "2. (a partir de la variable **`lista_examen`**) Crea un humano instanciandolo en el objeto `humano_1` llamado \"Manuel\" que tiene el doble de tu de edad y mide 10 centímetros menos que tu altura.\n",
    "\n",
    "3. Crea un humano instanciandolo en el objeto `humano_2` llamado \"Cojoncio\" con la misma edad y altura de Manuel. A \"Cojoncio\" nunca le gustó su nombre. Por eso, usa el método correspondiente para cambiarse su nombre por \"Goku\". Haz que cumpla hasta los 80 si no los tiene ya. Comprueba que se han actualizado sus atributos de `edad` y `altura`. \n",
    "\n",
    "4. Documenta la clase con el estilo de Google\n"
   ]
  },
  {
   "cell_type": "code",
   "execution_count": 52,
   "metadata": {},
   "outputs": [],
   "source": [
    "class Humano():\n",
    "    '''\n",
    "    Clase humano como ejemplo de ejercicio de examen\n",
    "    '''\n",
    "\n",
    "    mamifero = True\n",
    "\n",
    "    def __init__(self, edad, altura, nombre, ojos = 2):\n",
    "        '''\n",
    "        Atributos particulares de un humano\n",
    "        Args:\n",
    "            edad(int) : edad en años\n",
    "            altura(float): altura en metros\n",
    "            nombre(string): el nombre\n",
    "            ojos(int): número de ojos\n",
    "        '''\n",
    "        self.edad = edad\n",
    "        self.altura = altura\n",
    "        self.nombre = nombre\n",
    "        self.ojos = ojos\n",
    "    \n",
    "    def registro_nombre(self, nuevo_nombre):\n",
    "        '''\n",
    "        Método que renombra con un nuevo nombre\n",
    "        Args:\n",
    "            nuevo_nombre(string): nombre nuevo por el que cambiar\n",
    "        '''\n",
    "\n",
    "        self.nombre = nuevo_nombre\n",
    "\n",
    "    def cumplir_edad(self):\n",
    "        '''\n",
    "        Método que hace cumplir años y que actualiza la altura en caso de llegar a los 80\n",
    "        Return:\n",
    "            Mensaje con una felicitación\n",
    "        '''\n",
    "        self.edad = self.edad + 1\n",
    "        if self.edad == 80:\n",
    "            self.altura = self.altura * 0.9\n",
    "        \n",
    "        return \"Felices \" + str(self.edad) + \" años.\""
   ]
  },
  {
   "cell_type": "code",
   "execution_count": 39,
   "metadata": {},
   "outputs": [],
   "source": [
    "humano_1 = Humano(lista_examen[0] * 2, lista_examen[2] - 0.1, \"Manuel\")"
   ]
  },
  {
   "cell_type": "code",
   "execution_count": 40,
   "metadata": {},
   "outputs": [
    {
     "name": "stdout",
     "output_type": "stream",
     "text": [
      "56\n",
      "1.7\n",
      "Manuel\n"
     ]
    }
   ],
   "source": [
    "print(humano_1.edad)\n",
    "print(humano_1.altura)\n",
    "print(humano_1.nombre)"
   ]
  },
  {
   "cell_type": "code",
   "execution_count": 53,
   "metadata": {},
   "outputs": [],
   "source": [
    "humano_2 = Humano(lista_examen[0] * 2, lista_examen[2] - 0.1, \"Cojoncio\")"
   ]
  },
  {
   "cell_type": "code",
   "execution_count": 47,
   "metadata": {},
   "outputs": [
    {
     "name": "stdout",
     "output_type": "stream",
     "text": [
      "56\n",
      "1.7\n",
      "Cojoncio\n"
     ]
    }
   ],
   "source": [
    "print(humano_2.edad)\n",
    "print(humano_2.altura)\n",
    "print(humano_2.nombre)"
   ]
  },
  {
   "cell_type": "code",
   "execution_count": 54,
   "metadata": {},
   "outputs": [
    {
     "name": "stdout",
     "output_type": "stream",
     "text": [
      "Goku\n"
     ]
    }
   ],
   "source": [
    "humano_2.registro_nombre(\"Goku\")\n",
    "print(humano_2.nombre)"
   ]
  },
  {
   "cell_type": "code",
   "execution_count": 82,
   "metadata": {},
   "outputs": [
    {
     "name": "stdout",
     "output_type": "stream",
     "text": [
      "Felices 84 años.\n",
      "84\n",
      "1.53\n"
     ]
    }
   ],
   "source": [
    "print(humano_2.cumplir_edad())\n",
    "print(humano_2.edad)\n",
    "print(humano_2.altura)"
   ]
  },
  {
   "cell_type": "markdown",
   "metadata": {},
   "source": [
    "¡Has terminado!\n",
    "\n",
    "Adjunta este fichero en **-->[Enlace al test](https://docs.google.com/forms/d/e/1FAIpQLSd0MtySII6TJBRZtYPpwI4RCiYCiFONpwius9DSNj9hFmdeMQ/viewform)<--**"
   ]
  },
  {
   "cell_type": "code",
   "execution_count": null,
   "metadata": {},
   "outputs": [],
   "source": []
  }
 ],
 "metadata": {
  "kernelspec": {
   "display_name": "Python 3.7.4 64-bit",
   "language": "python",
   "name": "python3"
  },
  "language_info": {
   "codemirror_mode": {
    "name": "ipython",
    "version": 3
   },
   "file_extension": ".py",
   "mimetype": "text/x-python",
   "name": "python",
   "nbconvert_exporter": "python",
   "pygments_lexer": "ipython3",
   "version": "3.7.4"
  },
  "orig_nbformat": 4,
  "vscode": {
   "interpreter": {
    "hash": "90139cb9a825bf3d63f6f6704e828dbd1ff7edbd4d0c6e906a71235d6efc74af"
   }
  }
 },
 "nbformat": 4,
 "nbformat_minor": 2
}
